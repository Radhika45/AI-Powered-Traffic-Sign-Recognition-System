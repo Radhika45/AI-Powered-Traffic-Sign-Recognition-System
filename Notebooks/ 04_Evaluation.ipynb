{
 "cells": [
  {
   "cell_type": "code",
   "execution_count": 66,
   "id": "531aa2be-328e-4c34-a9e1-71ec35f7a582",
   "metadata": {},
   "outputs": [
    {
     "name": "stdout",
     "output_type": "stream",
     "text": [
      "✅ Model loaded successfully!\n"
     ]
    }
   ],
   "source": [
    "from tensorflow.keras.models import load_model\n",
    "\n",
    "# Load the model but recompile it to reset the optimizer\n",
    "model = load_model(\"model.keras\", compile=False)\n",
    "\n",
    "print(\"✅ Model loaded successfully!\")\n",
    "\n"
   ]
  },
  {
   "cell_type": "code",
   "execution_count": 67,
   "id": "64a08118-bef1-48b1-b48c-64c206ee8a42",
   "metadata": {},
   "outputs": [
    {
     "name": "stdout",
     "output_type": "stream",
     "text": [
      "✅ Validation dataset found! Proceeding to create test dataset.\n",
      "✅ Test dataset recreated successfully! Test size: 9\n"
     ]
    }
   ],
   "source": [
    "import numpy as np\n",
    "from sklearn.model_selection import train_test_split\n",
    "import os\n",
    "\n",
    "# Load the validation dataset\n",
    "val_data_path = \"../gtsrb-preprocessed/X_val.npy\"\n",
    "val_labels_path = \"../gtsrb-preprocessed/y_val.npy\"\n",
    "\n",
    "if os.path.exists(val_data_path) and os.path.exists(val_labels_path):\n",
    "    print(\"✅ Validation dataset found! Proceeding to create test dataset.\")\n",
    "    \n",
    "    # Load data\n",
    "    X_val = np.load(val_data_path)\n",
    "    y_val = np.load(val_labels_path)\n",
    "\n",
    "    # Check if all classes have at least 2 samples\n",
    "    unique, counts = np.unique(y_val, return_counts=True)\n",
    "    min_count = np.min(counts)\n",
    "\n",
    "    if min_count >= 2:\n",
    "        # Safe to use stratification\n",
    "        print(\"✅ Using stratified split (All classes have at least 2 samples).\")\n",
    "        X_val, X_test, y_val, y_test = train_test_split(\n",
    "            X_val, y_val, test_size=0.2, stratify=y_val, random_state=42\n",
    "        )\n",
    "    else:\n",
    "        # Fallback: Random split without stratification\n",
    "        X_val, X_test, y_val, y_test = train_test_split(\n",
    "            X_val, y_val, test_size=0.2, random_state=42\n",
    "        )\n",
    "\n",
    "    # Ensure the test directory exists\n",
    "    test_dir = \"../gtsrb-preprocessed/test/\"\n",
    "    os.makedirs(test_dir, exist_ok=True)\n",
    "\n",
    "    # Save the test dataset inside the test folder\n",
    "    np.save(test_dir + \"X_test.npy\", X_test)\n",
    "    np.save(test_dir + \"y_test.npy\", y_test)\n",
    "\n",
    "    print(f\"✅ Test dataset recreated successfully! Test size: {X_test.shape[0]}\")\n",
    "else:\n",
    "    print(\"❌ Validation dataset not found! Ensure `X_val.npy` and `y_val.npy` exist.\")\n"
   ]
  },
  {
   "cell_type": "code",
   "execution_count": 68,
   "id": "b8370960-180f-4007-b091-b9ff1ac2df9d",
   "metadata": {},
   "outputs": [
    {
     "name": "stdout",
     "output_type": "stream",
     "text": [
      "Class distribution in y_test:\n",
      "Class 10: 1 samples\n",
      "Class 12: 1 samples\n",
      "Class 21: 1 samples\n",
      "Class 28: 1 samples\n",
      "Class 29: 1 samples\n",
      "Class 30: 1 samples\n",
      "Class 32: 1 samples\n",
      "Class 33: 1 samples\n",
      "Class 36: 1 samples\n"
     ]
    }
   ],
   "source": [
    "import numpy as np\n",
    "\n",
    "y_test = np.load(\"../gtsrb-preprocessed/test/y_test.npy\")\n",
    "unique, counts = np.unique(y_test, return_counts=True)\n",
    "\n",
    "print(\"Class distribution in y_test:\")\n",
    "for cls, count in zip(unique, counts):\n",
    "    print(f\"Class {cls}: {count} samples\")\n"
   ]
  },
  {
   "cell_type": "code",
   "execution_count": 69,
   "id": "a4e145eb-9c6a-44c8-bf7a-3cc96b1e0bde",
   "metadata": {},
   "outputs": [
    {
     "name": "stdout",
     "output_type": "stream",
     "text": [
      "📂 Test data loaded! Shape: (9, 48, 48, 3), (9,)\n"
     ]
    }
   ],
   "source": [
    "import numpy as np\n",
    "\n",
    "# Load test dataset\n",
    "X_test = np.load(\"../gtsrb-preprocessed/test/X_test.npy\")\n",
    "y_test = np.load(\"../gtsrb-preprocessed/test/y_test.npy\")\n",
    "\n",
    "print(f\"📂 Test data loaded! Shape: {X_test.shape}, {y_test.shape}\")\n"
   ]
  },
  {
   "cell_type": "code",
   "execution_count": 70,
   "id": "9d356a5f-e453-44ed-9f0b-3cb1e8089c4a",
   "metadata": {},
   "outputs": [
    {
     "name": "stdout",
     "output_type": "stream",
     "text": [
      "✅ y_test converted to one-hot encoding!\n"
     ]
    }
   ],
   "source": [
    "from tensorflow.keras.utils import to_categorical\n",
    "\n",
    "# Define the number of classes\n",
    "num_classes = 43  # Adjust based on your dataset\n",
    "\n",
    "# Convert y_test to one-hot encoding\n",
    "y_test = to_categorical(y_test, num_classes)\n",
    "\n",
    "print(\"✅ y_test converted to one-hot encoding!\")\n"
   ]
  },
  {
   "cell_type": "code",
   "execution_count": 71,
   "id": "a20b3199-077f-445e-aeb8-2ee7472c459a",
   "metadata": {},
   "outputs": [
    {
     "name": "stdout",
     "output_type": "stream",
     "text": [
      "✅ Model compiled successfully!\n"
     ]
    }
   ],
   "source": [
    "from tensorflow.keras.optimizers import Adam\n",
    "\n",
    "# Compile the model\n",
    "model.compile(optimizer=Adam(learning_rate=0.001), loss='categorical_crossentropy', metrics=['accuracy'])\n",
    "\n",
    "print(\"✅ Model compiled successfully!\")\n"
   ]
  },
  {
   "cell_type": "code",
   "execution_count": 72,
   "id": "69a867ac-3853-4cea-8e19-dba38fd338cf",
   "metadata": {},
   "outputs": [
    {
     "name": "stdout",
     "output_type": "stream",
     "text": [
      "\u001b[1m1/1\u001b[0m \u001b[32m━━━━━━━━━━━━━━━━━━━━\u001b[0m\u001b[37m\u001b[0m \u001b[1m0s\u001b[0m 281ms/step - accuracy: 0.8889 - loss: 0.8580\n",
      "📝 Test Loss: 0.8580\n",
      "✅ Test Accuracy: 88.8889%\n"
     ]
    }
   ],
   "source": [
    "# Evaluate the model\n",
    "test_loss, test_accuracy = model.evaluate(X_test, y_test, verbose=1)\n",
    "\n",
    "print(f\"📝 Test Loss: {test_loss:.4f}\")\n",
    "print(f\"✅ Test Accuracy: {test_accuracy:.4%}\")\n"
   ]
  },
  {
   "cell_type": "code",
   "execution_count": 73,
   "id": "e335effa-6a82-40a5-b1c2-ef8b222c7a80",
   "metadata": {},
   "outputs": [
    {
     "name": "stdout",
     "output_type": "stream",
     "text": [
      "WARNING:tensorflow:5 out of the last 8 calls to <function TensorFlowTrainer.make_predict_function.<locals>.one_step_on_data_distributed at 0x0000016A89C08670> triggered tf.function retracing. Tracing is expensive and the excessive number of tracings could be due to (1) creating @tf.function repeatedly in a loop, (2) passing tensors with different shapes, (3) passing Python objects instead of tensors. For (1), please define your @tf.function outside of the loop. For (2), @tf.function has reduce_retracing=True option that can avoid unnecessary retracing. For (3), please refer to https://www.tensorflow.org/guide/function#controlling_retracing and https://www.tensorflow.org/api_docs/python/tf/function for  more details.\n",
      "\u001b[1m1/1\u001b[0m \u001b[32m━━━━━━━━━━━━━━━━━━━━\u001b[0m\u001b[37m\u001b[0m \u001b[1m0s\u001b[0m 69ms/step\n",
      "✅ Predictions generated!\n"
     ]
    }
   ],
   "source": [
    "y_pred = model.predict(X_test)  # Get probabilities\n",
    "y_pred_classes = np.argmax(y_pred, axis=1)  # Convert to class indices\n",
    "y_true_classes = np.argmax(y_test, axis=1)  # Get true class indices\n",
    "\n",
    "print(\"✅ Predictions generated!\")\n"
   ]
  },
  {
   "cell_type": "code",
   "execution_count": 74,
   "id": "2fb86605-01c2-4ef9-8b04-1f9c33c616bd",
   "metadata": {},
   "outputs": [
    {
     "data": {
      "image/png": "[encoded data removed]",
      "text/plain": [
       "<Figure size 1000x800 with 2 Axes>"
      ]
     },
     "metadata": {},
     "output_type": "display_data"
    }
   ],
   "source": [
    "import seaborn as sns\n",
    "import matplotlib.pyplot as plt\n",
    "from sklearn.metrics import confusion_matrix\n",
    "\n",
    "# Compute confusion matrix\n",
    "cm = confusion_matrix(y_true_classes, y_pred_classes)\n",
    "\n",
    "# Plot\n",
    "plt.figure(figsize=(10, 8))\n",
    "sns.heatmap(cm, annot=True, cmap=\"Blues\", fmt=\"d\")\n",
    "\n",
    "plt.xlabel(\"Predicted\")\n",
    "plt.ylabel(\"Actual\")\n",
    "plt.title(\"Confusion Matrix\")\n",
    "plt.show()\n"
   ]
  },
  {
   "cell_type": "code",
   "execution_count": 75,
   "id": "3b225382-9079-464a-8f4b-74659f7dc89e",
   "metadata": {},
   "outputs": [
    {
     "name": "stdout",
     "output_type": "stream",
     "text": [
      "Requirement already satisfied: prettytable in c:\\users\\radhi\\appdata\\local\\programs\\python\\python310\\lib\\site-packages (3.15.1)\n",
      "Requirement already satisfied: wcwidth in c:\\users\\radhi\\appdata\\local\\programs\\python\\python310\\lib\\site-packages (from prettytable) (0.2.13)\n",
      "Note: you may need to restart the kernel to use updated packages.\n"
     ]
    }
   ],
   "source": [
    "pip install prettytable\n"
   ]
  },
  {
   "cell_type": "code",
   "execution_count": 77,
   "id": "dce0206f-6bba-4c4f-b763-36dce6da329f",
   "metadata": {},
   "outputs": [
    {
     "name": "stdout",
     "output_type": "stream",
     "text": [
      "\n",
      "📊 Model Evaluation Results\n",
      "\n",
      "+----------+--------+\n",
      "|  Metric  | Value  |\n",
      "+----------+--------+\n",
      "| Accuracy | 88.89% |\n",
      "|   Loss   | 0.8580 |\n",
      "+----------+--------+\n"
     ]
    }
   ],
   "source": [
    "from sklearn.metrics import accuracy_score\n",
    "from prettytable import PrettyTable\n",
    "\n",
    "# Evaluate the model\n",
    "loss, accuracy = model.evaluate(X_test, y_test, verbose=0)\n",
    "\n",
    "# Convert accuracy to percentage format\n",
    "accuracy_percent = round(accuracy * 100, 2)\n",
    "\n",
    "# Create a table using PrettyTable\n",
    "table = PrettyTable()\n",
    "table.field_names = [\"Metric\", \"Value\"]\n",
    "table.add_row([\"Accuracy\", f\"{accuracy_percent}%\"])\n",
    "table.add_row([\"Loss\", f\"{loss:.4f}\"])\n",
    "\n",
    "# Print the table\n",
    "print(\"\\n📊 Model Evaluation Results\\n\")\n",
    "print(table)\n"
   ]
  },
  {
   "cell_type": "code",
   "execution_count": null,
   "id": "754ea47d-3d82-4aea-bcbe-6580347b6a49",
   "metadata": {},
   "outputs": [],
   "source": []
  },
  {
   "cell_type": "code",
   "execution_count": null,
   "id": "dc75b3f8-1212-4247-9893-870d54fcc960",
   "metadata": {},
   "outputs": [],
   "source": []
  }
 ],
 "metadata": {
  "kernelspec": {
   "display_name": "Python 3.10",
   "language": "python",
   "name": "python310"
  },
  "language_info": {
   "codemirror_mode": {
    "name": "ipython",
    "version": 3
   },
   "file_extension": ".py",
   "mimetype": "text/x-python",
   "name": "python",
   "nbconvert_exporter": "python",
   "pygments_lexer": "ipython3",
   "version": "3.10.0"
  }
 },
 "nbformat": 4,
 "nbformat_minor": 5
}
