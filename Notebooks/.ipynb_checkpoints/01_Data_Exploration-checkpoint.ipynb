{
 "cells": [
  {
   "cell_type": "code",
   "execution_count": 2,
   "id": "d31534f1-c7cd-4dc7-93da-b03d7dcffc74",
   "metadata": {},
   "outputs": [
    {
     "name": "stdout",
     "output_type": "stream",
     "text": [
      "❌ Error: Train folder not found!\n"
     ]
    }
   ],
   "source": [
    "import os\n",
    "\n",
    "train_path = \"..gtsrb-preprocessed/train\"\n",
    "\n",
    "if os.path.exists(train_path):\n",
    "    print(\"✅ Train folder found!\")\n",
    "    print(\"Classes:\", os.listdir(train_path))\n",
    "else:\n",
    "    print(\"❌ Error: Train folder not found!\")\n",
    "\n",
    "\n"
   ]
  },
  {
   "cell_type": "code",
   "execution_count": null,
   "id": "98f36280-e20c-4981-83aa-d34b91dc6350",
   "metadata": {},
   "outputs": [],
   "source": []
  }
 ],
 "metadata": {
  "kernelspec": {
   "display_name": "Python 3.10",
   "language": "python",
   "name": "python310"
  },
  "language_info": {
   "codemirror_mode": {
    "name": "ipython",
    "version": 3
   },
   "file_extension": ".py",
   "mimetype": "text/x-python",
   "name": "python",
   "nbconvert_exporter": "python",
   "pygments_lexer": "ipython3",
   "version": "3.10.0"
  }
 },
 "nbformat": 4,
 "nbformat_minor": 5
}
