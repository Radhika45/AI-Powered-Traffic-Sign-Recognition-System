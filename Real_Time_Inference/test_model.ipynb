{
 "cells": [
  {
   "cell_type": "code",
   "execution_count": 3,
   "id": "fb7cba94-f64d-48b7-ab5a-8eb168d87e3b",
   "metadata": {},
   "outputs": [
    {
     "name": "stdout",
     "output_type": "stream",
     "text": [
      "✅ Model loaded successfully!\n",
      "📌 Model Input Shape: (None, 48, 48, 3)\n"
     ]
    }
   ],
   "source": [
    "import tensorflow as tf\n",
    "\n",
    "# Load the trained model\n",
    "model_path = \"trained_model.h5\"  # Make sure this path is correct\n",
    "model = tf.keras.models.load_model(model_path, compile=False)\n",
    "\n",
    "# Check input shape\n",
    "print(\"✅ Model loaded successfully!\")\n",
    "print(f\"📌 Model Input Shape: {model.input_shape}\")  # Should be (None, 48, 48, 3)\n",
    "\n"
   ]
  },
  {
   "cell_type": "code",
   "execution_count": 8,
   "id": "efdaf74a-08ef-499f-bc9f-f0b6dfbe4331",
   "metadata": {},
   "outputs": [
    {
     "name": "stdout",
     "output_type": "stream",
     "text": [
      "\u001b[1m1/1\u001b[0m \u001b[32m━━━━━━━━━━━━━━━━━━━━\u001b[0m\u001b[37m\u001b[0m \u001b[1m0s\u001b[0m 90ms/step\n",
      "✅ Predicted Class: 7, Confidence: 0.23\n"
     ]
    }
   ],
   "source": [
    "import cv2\n",
    "import numpy as np\n",
    "\n",
    "# Load an image\n",
    "image_path = \"test_image.jpg\"  # Change this to an actual image path\n",
    "img = cv2.imread(image_path)\n",
    "\n",
    "# Resize and preprocess\n",
    "img = cv2.resize(img, (48, 48))\n",
    "img = img.astype(np.float32) / 255.0  # Normalize\n",
    "img = np.expand_dims(img, axis=0)  # Add batch dimension\n",
    "\n",
    "# Predict\n",
    "predictions = model.predict(img)\n",
    "class_id = np.argmax(predictions)\n",
    "confidence = np.max(predictions)\n",
    "\n",
    "print(f\"✅ Predicted Class: {class_id}, Confidence: {confidence:.2f}\")\n"
   ]
  },
  {
   "cell_type": "code",
   "execution_count": 9,
   "id": "f3c538e9-fe87-4137-8cd9-8916c1aa250d",
   "metadata": {},
   "outputs": [
    {
     "name": "stdout",
     "output_type": "stream",
     "text": [
      "Image shape before prediction: (1, 48, 48, 3)\n"
     ]
    }
   ],
   "source": [
    "print(f\"Image shape before prediction: {img.shape}\")  # Should be (1, 48, 48, 3)\n",
    "\n",
    "# If grayscale (1 channel), convert to RGB\n",
    "if img.shape[-1] == 1:\n",
    "    img = cv2.cvtColor(img, cv2.COLOR_GRAY2RGB)\n",
    "    print(\"✅ Converted grayscale image to RGB\")\n"
   ]
  },
  {
   "cell_type": "code",
   "execution_count": 10,
   "id": "6ce72dfe-4555-4f18-9a2c-4d959e7127a0",
   "metadata": {},
   "outputs": [
    {
     "name": "stdout",
     "output_type": "stream",
     "text": [
      "✅ Model loaded successfully.\n"
     ]
    }
   ],
   "source": [
    "import tensorflow as tf\n",
    "\n",
    "# Load trained model\n",
    "model_path = \"model.keras\"\n",
    "model = tf.keras.models.load_model(model_path)\n",
    "print(\"✅ Model loaded successfully.\")\n"
   ]
  },
  {
   "cell_type": "code",
   "execution_count": 11,
   "id": "d090b5bc-9bcb-4869-8e20-d09186d57c6d",
   "metadata": {},
   "outputs": [
    {
     "name": "stdout",
     "output_type": "stream",
     "text": [
      "✅ Model expects input shape: (48, 48, 3)\n"
     ]
    }
   ],
   "source": [
    "# Get model input shape\n",
    "_, img_height, img_width, img_channels = model.input_shape\n",
    "print(f\"✅ Model expects input shape: ({img_height}, {img_width}, {img_channels})\")\n"
   ]
  },
  {
   "cell_type": "code",
   "execution_count": 12,
   "id": "7c9e54e5-7b3b-4af3-b6f6-0313a14d0ec4",
   "metadata": {},
   "outputs": [
    {
     "name": "stdout",
     "output_type": "stream",
     "text": [
      "✅ Labels loaded successfully.\n"
     ]
    }
   ],
   "source": [
    "import json\n",
    "\n",
    "# Load labels\n",
    "labels_path = \"labels.json\"\n",
    "try:\n",
    "    with open(labels_path, \"r\") as f:\n",
    "        labels = json.load(f)\n",
    "    print(\"✅ Labels loaded successfully.\")\n",
    "except FileNotFoundError:\n",
    "    print(\"❌ ERROR: labels.json not found!\")\n"
   ]
  },
  {
   "cell_type": "code",
   "execution_count": 13,
   "id": "46c53a1e-5cd8-49ca-b384-caa503886a83",
   "metadata": {},
   "outputs": [
    {
     "name": "stdout",
     "output_type": "stream",
     "text": [
      "\u001b[1m1/1\u001b[0m \u001b[32m━━━━━━━━━━━━━━━━━━━━\u001b[0m\u001b[37m\u001b[0m \u001b[1m0s\u001b[0m 208ms/step\n",
      "Predicted: Keep Left (0.33)\n"
     ]
    }
   ],
   "source": [
    "import cv2\n",
    "import numpy as np\n",
    "\n",
    "# Load and preprocess test image\n",
    "img_path = \"test_image.jpg\"\n",
    "img = cv2.imread(img_path)\n",
    "\n",
    "if img is not None:\n",
    "    img = cv2.resize(img, (img_width, img_height))\n",
    "    img = cv2.cvtColor(img, cv2.COLOR_BGR2RGB)\n",
    "    img = img.astype(np.float32) / 255.0\n",
    "    img = np.expand_dims(img, axis=0)\n",
    "\n",
    "    # Predict\n",
    "    predictions = model.predict(img)\n",
    "    class_id = int(np.argmax(predictions))\n",
    "    confidence = float(np.max(predictions))\n",
    "\n",
    "    # Display result\n",
    "    label = labels.get(str(class_id), \"Unknown\")\n",
    "    print(f\"Predicted: {label} ({confidence:.2f})\")\n",
    "else:\n",
    "    print(\"❌ ERROR: Image not found!\")\n"
   ]
  },
  {
   "cell_type": "code",
   "execution_count": null,
   "id": "946c0b07-db5d-44f3-8be3-6e125e016a02",
   "metadata": {},
   "outputs": [],
   "source": []
  }
 ],
 "metadata": {
  "kernelspec": {
   "display_name": "Python 3.10",
   "language": "python",
   "name": "python310"
  },
  "language_info": {
   "codemirror_mode": {
    "name": "ipython",
    "version": 3
   },
   "file_extension": ".py",
   "mimetype": "text/x-python",
   "name": "python",
   "nbconvert_exporter": "python",
   "pygments_lexer": "ipython3",
   "version": "3.10.0"
  }
 },
 "nbformat": 4,
 "nbformat_minor": 5
}
